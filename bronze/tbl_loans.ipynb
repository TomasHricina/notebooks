{
 "cells": [
  {
   "cell_type": "code",
   "execution_count": null,
   "source": [
    "@transformation(read_csv(\"whatever.csv\", options=dict(header=True, inferSchema=True)), display=True)\n",
    "@table_overwrite(\"bronze.tbl_loans\")\n",
    "def save(df: DataFrame):\n",
    "    pass"
   ],
   "outputs": [],
   "metadata": {}
  }
 ],
 "metadata": {
  "orig_nbformat": 4,
  "language_info": {
   "name": "python"
  }
 },
 "nbformat": 4,
 "nbformat_minor": 2
}