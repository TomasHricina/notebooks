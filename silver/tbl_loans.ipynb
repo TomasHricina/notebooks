{
 "cells": [
  {
   "cell_type": "code",
   "execution_count": null,
   "source": [
    "@transformation(read_table(\"bronze.tbl_loans\"), display=True)\n",
    "@table_overwrite(\"silver.tbl_loans\", get_schema())\n",
    "def convert_columns_and_save(df: DataFrame):\n",
    "    pass\n"
   ],
   "outputs": [],
   "metadata": {}
  }
 ],
 "metadata": {
  "orig_nbformat": 4,
  "language_info": {
   "name": "python"
  }
 },
 "nbformat": 4,
 "nbformat_minor": 2
}